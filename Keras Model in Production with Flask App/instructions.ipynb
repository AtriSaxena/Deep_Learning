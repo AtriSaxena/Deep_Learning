{
 "cells": [
  {
   "cell_type": "markdown",
   "metadata": {},
   "source": [
    "# How to Deploy Keras Models to Production\n",
    "\n",
    "## Our demo steps\n",
    "We'll build a simple Flask app to predict the character that you've drawn in the browser!\n",
    "\n",
    "- Step 1 - Train our model with Keras run \"MNIST Keras Model creater.ipynb\"\n",
    "- Step 2 - Save our model & json \n",
    "- Step 3 - Write our Flask backend to serve our saved model (then look at dep classes (load.py, index.js, index.html)\n",
    "- Step 4 - Deploy our code to Google Cloud\n",
    "\n",
    "![alt text](http://i.imgur.com/y60r6kn.png \"Logo Title Text 1\")\n",
    "\n",
    "## Basic Flow\n",
    "\n",
    "- We use Keras with a Tensorflow backend to train a small 8 layer Convolutional Network to recognize handwritten character digits\n",
    "- We use Flask as our backend for serving these pretrained models. You can check Flask documentation here https:flask.pocoo.org/docs/1.0/quickstart \n",
    "\n",
    "![alt text](https://image.slidesharecdn.com/flaskpython-130201154928-phpapp01/95/flask-python-10-638.jpg?cb=1359733858 \"Logo Title Text 1\")\n",
    "\n",
    "## If need GPU accelerated inference\n",
    "\n",
    "- Keras.js https://github.com/transcranial/keras-js Run Keras models in the browser (python backend, JS front-end) with GPU support. \n",
    "- WebDNN https://github.com/mil-tokyo/webdnn (but converting the model to its required format requires OS X (Specifically the xcode dependency 'metal' for running GPU operations). Not everyone uses OS X! Although Francois Chollet is a fan and its also faster than this. But this has more examples.\n",
    "- NeoCortex https://github.com/scienceai/neocortex the interactive demos are pretty cool but not actively maintained"
   ]
  },
  {
   "cell_type": "markdown",
   "metadata": {},
   "source": [
    "## Run it locally\n",
    "1. open command window and set source to the folder where files are.\n",
    "2. run this command \"set FLASK_APP=app.py\"\n",
    "3. Run this command \"python -m flask run\n",
    "4. Open browser "
   ]
  },
  {
   "cell_type": "markdown",
   "metadata": {},
   "source": [
    "## Once our model is trained + saved with \"MNIST keras model creator.ipynb\", we've written our flask app, use these steps to deploy to google cloud\n",
    "\n",
    "We can Deploy our app to App Engine using the \n",
    "\n",
    "`gcloud app deploy`\n",
    "\n",
    "command. This command automatically builds a container image by using the Container Builder service and then deploys that image to the App Engine flexible environment. The container will include any local modifications that you've made to the runtime image.\n",
    "\n",
    "Launch your browser and view the app at http://YOUR_PROJECT_ID.appspot.com, by running the following command:\n",
    "\n",
    "`gcloud app browse`\n",
    "\n",
    "\n",
    "More info here https://cloud.google.com/appengine/docs/flexible/python/quickstart\n",
    "\n",
    "\n"
   ]
  },
  {
   "cell_type": "code",
   "execution_count": null,
   "metadata": {
    "collapsed": true
   },
   "outputs": [],
   "source": []
  }
 ],
 "metadata": {
  "kernelspec": {
   "display_name": "Python 3",
   "language": "python",
   "name": "python3"
  },
  "language_info": {
   "codemirror_mode": {
    "name": "ipython",
    "version": 3
   },
   "file_extension": ".py",
   "mimetype": "text/x-python",
   "name": "python",
   "nbconvert_exporter": "python",
   "pygments_lexer": "ipython3",
   "version": "3.6.1"
  }
 },
 "nbformat": 4,
 "nbformat_minor": 2
}
